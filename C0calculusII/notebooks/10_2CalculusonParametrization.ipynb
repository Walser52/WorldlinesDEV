{
 "cells": [
  {
   "cell_type": "code",
   "execution_count": 142,
   "id": "c0bf954c-4353-468f-b7ea-adceeaa22f6e",
   "metadata": {},
   "outputs": [],
   "source": [
    "import sympy"
   ]
  },
  {
   "cell_type": "markdown",
   "id": "f72ff7c0-e46e-4fd7-badb-f18c59e64f5f",
   "metadata": {},
   "source": [
    "# Calculus with Parametric Curves"
   ]
  },
  {
   "cell_type": "markdown",
   "id": "ff8d5e3b-88b7-4128-b6b0-d90801bbcc31",
   "metadata": {},
   "source": [
    "Tangent lines and areas"
   ]
  },
  {
   "cell_type": "markdown",
   "id": "e48a01ea-a1f5-4b89-bb82-0d729406c654",
   "metadata": {},
   "source": [
    "Length of a (parametrically defined) curve"
   ]
  },
  {
   "cell_type": "code",
   "execution_count": null,
   "id": "3dc901a4-7a60-4172-aa0e-3e4603b76675",
   "metadata": {},
   "outputs": [],
   "source": [
    "Areas of surfaces of revolution"
   ]
  }
 ],
 "metadata": {
  "kernelspec": {
   "display_name": "Python 3 (ipykernel)",
   "language": "python",
   "name": "python3"
  },
  "language_info": {
   "codemirror_mode": {
    "name": "ipython",
    "version": 3
   },
   "file_extension": ".py",
   "mimetype": "text/x-python",
   "name": "python",
   "nbconvert_exporter": "python",
   "pygments_lexer": "ipython3",
   "version": "3.9.13"
  }
 },
 "nbformat": 4,
 "nbformat_minor": 5
}
