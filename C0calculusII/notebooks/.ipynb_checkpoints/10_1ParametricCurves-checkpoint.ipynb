{
 "cells": [
  {
   "cell_type": "markdown",
   "metadata": {},
   "source": [
    "##### Setup"
   ]
  },
  {
   "cell_type": "code",
   "execution_count": null,
   "metadata": {},
   "outputs": [],
   "source": [
    "##You may need to run the following for animations:\n",
    "# !pip install ipympl\n",
    "\n",
    "\n",
    "## If you're using jupyter lab2\n",
    "# !pip install nodejs-bin\n",
    "# !jupyter labextension install @jupyter-widgets/jupyterlab-manager\n",
    "# !jupyter labextension install jupyter-matplotlib"
   ]
  },
  {
   "cell_type": "code",
   "execution_count": 1,
   "metadata": {},
   "outputs": [],
   "source": [
    "%matplotlib ipympl"
   ]
  },
  {
   "cell_type": "code",
   "execution_count": null,
   "metadata": {
    "tags": []
   },
   "outputs": [],
   "source": [
    "import pandas as pd\n",
    "import numpy as np\n",
    "import sympy as sp\n",
    "import matplotlib.pyplot as plt\n",
    "\n",
    "from sympy import plot_parametric, symbols, cos, sin\n",
    "from sympy import symbols\n",
    "pd.set_option('display.precision', 2)"
   ]
  },
  {
   "cell_type": "markdown",
   "metadata": {
    "tags": []
   },
   "source": [
    "# Parametric Curves\n",
    "\n",
    " If x and y are given as functions: \n",
    "$$\n",
    "x = ƒ(t), y = g(t)\n",
    "$$\n",
    "over an interval $I$ of $t$-values, then the set of points $(x, y) = (ƒ(t), g(t))$ defined by these equations is a parametric curve. The equations are parametric equations for the curve."
   ]
  },
  {
   "cell_type": "markdown",
   "metadata": {},
   "source": [
    "![](../figs/parameterization.png)"
   ]
  },
  {
   "cell_type": "markdown",
   "metadata": {
    "tags": []
   },
   "source": [
    "## <font color='red'> Examples</font>"
   ]
  },
  {
   "cell_type": "markdown",
   "metadata": {
    "tags": []
   },
   "source": [
    "### _Example 1:_ $\\quad x = sin(\\pi t/2),\\quad y=t, \\quad 0\\leq t\\leq 6$"
   ]
  },
  {
   "cell_type": "code",
   "execution_count": 139,
   "metadata": {
    "tags": []
   },
   "outputs": [
    {
     "data": {
      "image/png": "[encoded data removed]",
      "text/plain": [
       "<Figure size 640x480 with 1 Axes>"
      ]
     },
     "metadata": {},
     "output_type": "display_data"
    }
   ],
   "source": [
    "t = symbols('t')\n",
    "x = sin(sp.pi * t/2)\n",
    "y = t\n",
    "\n",
    "p = plot_parametric((x, y), (t, 0, 6), show = False)\n",
    "p.aspect_ratio=(1,1)\n",
    "p.show()"
   ]
  },
  {
   "cell_type": "code",
   "execution_count": 81,
   "metadata": {
    "jupyter": {
     "source_hidden": true
    },
    "tags": []
   },
   "outputs": [
    {
     "data": {
      "text/html": [
       "<div>\n",
       "<style scoped>\n",
       "    .dataframe tbody tr th:only-of-type {\n",
       "        vertical-align: middle;\n",
       "    }\n",
       "\n",
       "    .dataframe tbody tr th {\n",
       "        vertical-align: top;\n",
       "    }\n",
       "\n",
       "    .dataframe thead th {\n",
       "        text-align: right;\n",
       "    }\n",
       "</style>\n",
       "<table border=\"1\" class=\"dataframe\">\n",
       "  <thead>\n",
       "    <tr style=\"text-align: right;\">\n",
       "      <th></th>\n",
       "      <th>t</th>\n",
       "      <th>x</th>\n",
       "      <th>y</th>\n",
       "    </tr>\n",
       "  </thead>\n",
       "  <tbody>\n",
       "    <tr>\n",
       "      <th>0</th>\n",
       "      <td>0</td>\n",
       "      <td>0.0</td>\n",
       "      <td>0.0</td>\n",
       "    </tr>\n",
       "    <tr>\n",
       "      <th>1</th>\n",
       "      <td>1</td>\n",
       "      <td>1.0</td>\n",
       "      <td>1.0</td>\n",
       "    </tr>\n",
       "    <tr>\n",
       "      <th>2</th>\n",
       "      <td>2</td>\n",
       "      <td>0.0</td>\n",
       "      <td>0.0</td>\n",
       "    </tr>\n",
       "    <tr>\n",
       "      <th>3</th>\n",
       "      <td>3</td>\n",
       "      <td>-1.0</td>\n",
       "      <td>-1.0</td>\n",
       "    </tr>\n",
       "    <tr>\n",
       "      <th>4</th>\n",
       "      <td>4</td>\n",
       "      <td>-0.0</td>\n",
       "      <td>-0.0</td>\n",
       "    </tr>\n",
       "    <tr>\n",
       "      <th>5</th>\n",
       "      <td>5</td>\n",
       "      <td>1.0</td>\n",
       "      <td>1.0</td>\n",
       "    </tr>\n",
       "    <tr>\n",
       "      <th>6</th>\n",
       "      <td>6</td>\n",
       "      <td>0.0</td>\n",
       "      <td>0.0</td>\n",
       "    </tr>\n",
       "  </tbody>\n",
       "</table>\n",
       "</div>"
      ],
      "text/plain": [
       "   t    x    y\n",
       "0  0  0.0  0.0\n",
       "1  1  1.0  1.0\n",
       "2  2  0.0  0.0\n",
       "3  3 -1.0 -1.0\n",
       "4  4 -0.0 -0.0\n",
       "5  5  1.0  1.0\n",
       "6  6  0.0  0.0"
      ]
     },
     "metadata": {},
     "output_type": "display_data"
    }
   ],
   "source": [
    "# Generate the table for specific values of t\n",
    "\n",
    "def evaluate(x, s, values):\n",
    "    \"\"\"\n",
    "    Evaluate x on s, for num_values (given as a list) and return the result\n",
    "    \"\"\"    \n",
    "    return [round(float(x.evalf(subs={s: val})), 2) for val in values]\n",
    "\n",
    "values   = evaluate(t, t, list(range(7))) \n",
    "x_values = evaluate(x, t, values)\n",
    "y_values = evaluate(x, t, values)\n",
    "\n",
    "# Create a pandas DataFrame\n",
    "data = {\n",
    "    't': t_values,\n",
    "    'x': x_values,\n",
    "    'y': y_values\n",
    "}\n",
    "df = pd.DataFrame(data)\n",
    "display(df)"
   ]
  },
  {
   "cell_type": "code",
   "execution_count": 9,
   "metadata": {},
   "outputs": [],
   "source": [
    "## Using numpy\n",
    "t = np.linspace(0,6,7)\n",
    "x = np.sin(np.pi*t/2)\n",
    "y = t \n",
    "\n",
    "pd.DataFrame([t,x,y]).T\n",
    "\n",
    "plt.plot(x,y)\n",
    "plt.gca().set_aspect('equal')"
   ]
  },
  {
   "cell_type": "markdown",
   "metadata": {},
   "source": [
    "### Example 2"
   ]
  },
  {
   "cell_type": "markdown",
   "metadata": {},
   "source": [
    "### Example 3"
   ]
  },
  {
   "cell_type": "markdown",
   "metadata": {},
   "source": [
    "You may have seen the following equation. What does it represent?\n",
    "$$\n",
    "y = ax - bx^2\n",
    "$$\n",
    "\n",
    "Where $a$ and $b$ are some constants. \n"
   ]
  },
  {
   "cell_type": "markdown",
   "metadata": {},
   "source": [
    "Now this equation can be parametrized into two equations as follows:\n",
    "<font color = 'red'>\n",
    "$$\n",
    "x = ut, \\qquad y = vt + w t^2\n",
    "$$\n",
    "</font>\n",
    "Where $u$, $v$, and $w$ are constants related to $a$ and $b$. What are these equations showing?"
   ]
  },
  {
   "cell_type": "code",
   "execution_count": null,
   "metadata": {},
   "outputs": [],
   "source": [
    "x, y, t = Symbol('x y t')\n",
    "u, v, w = Symbol('u v w')\n",
    "\n",
    "x = u*t\n",
    "y = v * t + w t^2\n",
    "\n",
    "p = plot_parametric((x, y), (t, 0, 6), show = False)\n"
   ]
  },
  {
   "cell_type": "markdown",
   "metadata": {},
   "source": [
    "### Example: Slider"
   ]
  },
  {
   "cell_type": "code",
   "execution_count": null,
   "metadata": {},
   "outputs": [],
   "source": []
  },
  {
   "cell_type": "markdown",
   "metadata": {
    "jp-MarkdownHeadingCollapsed": true
   },
   "source": [
    "### Example 3: Animate"
   ]
  },
  {
   "cell_type": "code",
   "execution_count": 3,
   "metadata": {},
   "outputs": [
    {
     "data": {
      "application/vnd.jupyter.widget-view+json": {
       "model_id": "c250b8051be64c3a90cb8ddd4ca68d85",
       "version_major": 2,
       "version_minor": 0
      },
      "image/png": "[encoded data removed]",
      "text/html": [
       "\n",
       "            <div style=\"display: inline-block;\">\n",
       "                <div class=\"jupyter-widgets widget-label\" style=\"text-align: center;\">\n",
       "                    Figure\n",
       "                </div>\n",
       "                <img src='data:image/png;base64,iVBORw0KGgoAAAANSUhEUgAAAoAAAAHgCAYAAAA10dzkAAAAOXRFWHRTb2Z0d2FyZQBNYXRwbG90bGliIHZlcnNpb24zLjguMiwgaHR0cHM6Ly9tYXRwbG90bGliLm9yZy8g+/7EAAAACXBIWXMAAA9hAAAPYQGoP6dpAAAuOUlEQVR4nO3deXQUZb7G8aeTkM2QDkvIcgkQFtlUdpBllEAgIiLoIC7RE0Bx8ASZyMwgeBRkcAjOoCyKgHIErrLIIJuGRYSAg4LKkhEVETBArkiComkgmGBS9w8ufSeQFdKpJO/3c04dqKq3un79WnY/vLW0w7IsSwAAADCGl90FAAAAoHIRAAEAAAxDAAQAADAMARAAAMAwBEAAAADDEAABAAAMQwAEAAAwDAEQAADAMARAAAAAwxAAAQAADEMABAAAMAwBEAAAwDAEQAAAAMMQAAEAAAxDAAQAADAMARAAAMAwBEAAAADDEAABAAAMQwAEAAAwDAEQAADAMARAAAAAwxAAAQAADEMABAAAMAwBEAAAwDAEQAAAAMMQAAEAAAxDAAQAADAMARAAAMAwBEAAAADDEAABAAAMQwAEAAAwDAEQAADAMARAAAAAwxAAAQAADEMABAAAMAwBEAAAwDAEQAAAAMMQAAEAAAxDAAQAADAMARAAAMAwBEAAAADDEAABAAAMQwAEAAAwDAEQAADAMARAAAAAwxAAAQAADEMABAAAMAwBEAAAwDAEQAAAAMMQAAEAAAxDAAQAADAMARAAAMAwNTYAfvTRRxo0aJAiIyPlcDi0du3aQusty9KkSZMUERGhgIAAxcbG6vDhw/YUCwAAUIlqbAA8f/682rVrp7lz5xa5/u9//7vmzJmj+fPn69NPP9UNN9yguLg4/frrr5VcKQAAQOVyWJZl2V2EpzkcDq1Zs0ZDhgyRdGn0LzIyUn/605/05z//WZKUnZ2tsLAwLV68WA888ICN1QIAAHhWjR0BLEl6erpOnTql2NhY9zKn06lu3bpp165dNlYGAADgeT52F2CHU6dOSZLCwsIKLQ8LC3OvK0pubq5yc3Pd8wUFBTpz5ozq1asnh8PhmWIBAECFsixLZ8+eVWRkpLy8jBwLMzMAXqvk5GRNmTLF7jIAAEAFyMjIUMOGDe0uwxZGBsDw8HBJUmZmpiIiItzLMzMz1b59+2K3mzhxosaNG+eez87OVqNGjZSRkaHg4GCP1QsAACqOy+VSVFSUateubXcptjEyAEZHRys8PFxbt251Bz6Xy6VPP/1UTzzxRLHb+fn5yc/P76rlwcHBBEAAAKoZky/fqrEB8Ny5czpy5Ih7Pj09XWlpaapbt64aNWqkpKQkvfDCC2rRooWio6P13HPPKTIy0n2nMAAAQE1VYwPgnj17FBMT456/fOo2ISFBixcv1vjx43X+/Hk9/vjj+uWXX9SrVy9t2rRJ/v7+dpUMAABQKYx4DqCnuFwuOZ1OZWdncwoYAIBqgu/vGjwCCAAwh2VZ+u2335Sfn293KagCvL295ePjY/Q1fqUhAAIAqrW8vDz98MMPysnJsbsUVCGBgYGKiIiQr6+v3aVUSQRAAEC1VVBQoPT0dHl7eysyMlK+vr6M+hjOsizl5eXp9OnTSk9PV4sWLYx92HNJCIAAgGorLy9PBQUFioqKUmBgoN3loIoICAhQrVq1dPz4ceXl5XGDZxGIxACAao8RHlyJY6Jk9A4AAIBhCIAAAACGIQACAAAYhgAIAEAVtX37dnXs2FF+fn5q3ry5Fi9e7NH9/frrrxo+fLhuvvlm+fj4FPnzqKtXr1a/fv0UGhqq4OBgde/eXZs3b/ZoXTExMVq4cKFH92EaAiAAAFVQenq6Bg4cqJiYGKWlpSkpKUmPPfaYR8NWfn6+AgICNHbsWMXGxhbZ5qOPPlK/fv20YcMG7d27VzExMRo0aJD279/vkZrOnDmjjz/+WIMGDfLI65uKAAgAQCV7/fXXFRkZqYKCgkLLBw8erJEjR0qS5s+fr+joaL300ktq3bq1xowZo6FDh2rmzJkeq+uGG27QvHnzNGrUKIWHhxfZZtasWRo/fry6dOmiFi1aaNq0aWrRooXee++9Yl938eLFCgkJ0fvvv6+WLVsqMDBQQ4cOVU5OjpYsWaImTZqoTp06Gjt27FW/5pKSkqKOHTsqLCxMP//8s+Lj4xUaGqqAgAC1aNFCixYtqtA+MAUBEAAASb/9Jv31r1L//pf+/O03z+3rvvvu008//aTU1FT3sjNnzmjTpk2Kj4+XJO3ateuqUbi4uDjt2rWr2Nc9ceKEgoKCSpymTZtWoe+loKBAZ8+eVd26dUtsl5OTozlz5mjFihXatGmTtm/frnvuuUcbNmzQhg0b9NZbb2nBggVatWpVoe3Wr1+vwYMHS5Kee+45ff3119q4caMOHjyoefPmqX79+hX6fkzBg6ABAJA0bZr0/POSZUkffnhp2aRJntlXnTp1NGDAAC1btkx9+/aVJK1atUr169dXTEyMJOnUqVMKCwsrtF1YWJhcLpcuXLiggICAq143MjJSaWlpJe67tKBWXjNmzNC5c+c0bNiwEttdvHhR8+bNU7NmzSRJQ4cO1VtvvaXMzEwFBQWpTZs2iomJUWpqqu6//35JUm5urjZt2qTnn39e0qWA26FDB3Xu3FmS1KRJkwp9LyYhAAIAIGnnzkvhT7r0586dnt1ffHy8Ro0apddee01+fn5aunSpHnjgget6gLGPj4+aN29egVWWbNmyZZoyZYrWrVunBg0alNg2MDDQHf6kS2G2SZMmCgoKKrQsKyvLPb9t2zY1aNBAbdu2lSQ98cQT+v3vf699+/apf//+GjJkiHr06FHB78oMnAIGAEBSr17S5Z8RdjguzXvSoEGDZFmWUlJSlJGRoX/961/u07+SFB4erszMzELbZGZmKjg4uMjRP6lyTwGvWLFCjz32mFauXFnsDSP/qVatWoXmHQ5Hkcv+87rI9evX6+6773bPDxgwQMePH9dTTz2lkydPqm/fvvrzn/98ne/ETIwAAgAg6ZlnLv25c+el8Hd53lP8/f117733aunSpTpy5Ihatmypjh07utd3795dGzZsKLTNli1b1L1792Jfs7JOAS9fvlwjR47UihUrNHDgwOt+vaJYlqX33ntPb7/9dqHloaGhSkhIUEJCgn73u9/pL3/5i2bMmOGRGmoyAiAAAJJ8fDx3zV9x4uPjddddd+mrr77Sww8/XGjd6NGj9eqrr2r8+PEaOXKktm3bppUrVyolJaXY16uIU8Bff/218vLydObMGZ09e9YdKNu3by/p0mnfhIQEzZ49W926ddOpU6ckSQEBAXI6nde17/+0d+9e5eTkqNd/DMVOmjRJnTp1Utu2bZWbm6v3339frVu3rrB9moQACACATfr06aO6devq0KFDeuihhwqti46OVkpKip566inNnj1bDRs21MKFCxUXF+fRmu68804dP37cPd+hQwdJl0bkpEuPsPntt9+UmJioxMREd7uEhIQKfVD1unXrdOedd8rH5/+jiq+vryZOnKhjx44pICBAv/vd77RixYoK26dJHNbl/6IoN5fLJafTqezsbAUHB9tdDgAY59dff1V6erqio6Pl7+9vdzmoQLfccoueffbZUu8uLk5Jxwbf39wEAgAAqpi8vDz9/ve/14ABA+wupcbiFDAAAKhSfH19NXnyZLvLqNEYAQQAADAMARAAAMAwBEAAAADDEAABAAAMQwAEAAAwDAEQAADAMARAAAAAwxAAAQAADEMABACgitq+fbs6duwoPz8/NW/evEJ/a7cox44dk8PhuGravXu3x/Y5YsQIPfvssx57fRSNXwIBAKAKSk9P18CBAzV69GgtXbpUW7du1WOPPaaIiAjFxcV5dN8ffvih2rZt656vV6+eR/aTn5+v999/XykpKR55fRSPEUAAQI1iWZZy8n6zZbIsq0w1vv7664qMjFRBQUGh5YMHD9bIkSMlSfPnz1d0dLReeukltW7dWmPGjNHQoUM1c+bMCu+zK9WrV0/h4eHuqVatWsW23b59uxwOhzZv3qwOHTooICBAffr0UVZWljZu3KjWrVsrODhYDz30kHJycgpt+8knn6hWrVrq0qWL8vLyNGbMGEVERMjf31+NGzdWcnKyp9+qsRgBBADUKBcu5qvNpM227Pvrv8Yp0Lf0r9b77rtPTz75pFJTU9W3b19J0pkzZ7Rp0yZt2LBBkrRr1y7FxsYW2i4uLk5JSUnFvu6JEyfUpk2bEvf9zDPP6Jlnnimxzd13361ff/1VN954o8aPH6+777671Pf0/PPP69VXX1VgYKCGDRumYcOGyc/PT8uWLdO5c+d0zz336JVXXtHTTz/t3mb9+vUaNGiQHA6H5syZo/Xr12vlypVq1KiRMjIylJGRUep+cW0IgAAAVLI6depowIABWrZsmTsArlq1SvXr11dMTIwk6dSpUwoLCyu0XVhYmFwuly5cuKCAgICrXjcyMlJpaWkl7rtu3brFrgsKCtJLL72knj17ysvLS++++66GDBmitWvXlhoCX3jhBfXs2VOS9Oijj2rixIk6evSomjZtKkkaOnSoUlNTCwXAdevWuUc0T5w4oRYtWqhXr15yOBxq3LhxifvD9SEAAgBqlIBa3vr6r569Rq6kfZdVfHy8Ro0apddee01+fn5aunSpHnjgAXl5XfvVWT4+PmrevPk1b1+/fn2NGzfOPd+lSxedPHlS//jHP0oNgLfccov772FhYQoMDHSHv8vLPvvsM/f8wYMHdfLkSXcAHj58uPr166eWLVvqjjvu0F133aX+/ftf83tBybgGEABQozgcDgX6+tgyORyOMtc5aNAgWZallJQUZWRk6F//+pfi4+Pd68PDw5WZmVlom8zMTAUHBxc5+iddGkULCgoqcZo2bVq5+rNbt246cuRIqe3+8zpBh8Nx1XWDDoej0DWP69evV79+/eTv7y9J6tixo9LT0zV16lRduHBBw4YN09ChQ8tVK8qOEUAAAGzg7++ve++9V0uXLtWRI0fUsmVLdezY0b2+e/fu7usBL9uyZYu6d+9e7Gte7yngoqSlpSkiIqJc25TFunXr9PjjjxdaFhwcrPvvv1/333+/hg4dqjvuuENnzpwpd80oHQEQAACbxMfH66677tJXX32lhx9+uNC60aNH69VXX9X48eM1cuRIbdu2TStXrizxkSnXewp4yZIl8vX1VYcOHSRJq1ev1ptvvqmFCxde82sWJSsrS3v27NH69evdy15++WVFRESoQ4cO8vLy0j//+U+Fh4crJCSkQveNSwiAAADYpE+fPqpbt64OHTqkhx56qNC66OhopaSk6KmnntLs2bPVsGFDLVy40OPPAJw6daqOHz8uHx8ftWrVSu+8806Fn4p977331LVrV9WvX9+9rHbt2vr73/+uw4cPy9vbW126dNGGDRuu65pIFM9hlfWhRbiKy+WS0+lUdna2goOD7S4HAIzz66+/Kj09XdHR0e5ryVD13X333erVq5fGjx/vsX2UdGzw/c1NIAAAoJL16tVLDz74oN1lGI1TwAAAoFJ5cuQPZWPsCGB+fr6ee+45RUdHKyAgQM2aNdPUqVPL/DM+AAAA1ZWxI4Avvvii5s2bpyVLlqht27bas2ePRowYIafTqbFjx9pdHgAAgMcYGwA/+eQTDR48WAMHDpQkNWnSRMuXLy/0lHIAQPXA2RtciWOiZMaeAu7Ro4e2bt2qb7/9VpL073//Wzt37tSAAQOK3SY3N1cul6vQBACwz+Vfm8jJybG5ElQ1l4+JK3+RBJcYOwI4YcIEuVwutWrVSt7e3srPz9ff/va3Qj/Dc6Xk5GRNmTKlEqsEAJTE29tbISEhysrKkiQFBgaW6+fYUPNYlqWcnBxlZWUpJCRE3t5l/31mkxgbAFeuXKmlS5dq2bJlatu2rdLS0pSUlKTIyEglJCQUuc3EiRML/Ui2y+VSVFRUZZUMAChCeHi4JLlDICBJISEh7mMDVzP2QdBRUVGaMGGCEhMT3cteeOEFvf322/rmm2/K9Bo8SBIAqo78/HxdvHjR7jJQBdSqVavEkT++vw0eAczJybnq52W8vb1VUFBgU0UAgOvh7e3N6T6gjIwNgIMGDdLf/vY3NWrUSG3bttX+/fv18ssva+TIkXaXBgAA4FHGngI+e/asnnvuOa1Zs0ZZWVmKjIzUgw8+qEmTJsnX17dMr8EQMgAA1Q/f3wYHwIrAAQQAQPXD97fBzwEEAAAwFQEQAADAMARAAAAAwxAAAQAADEMABAAAMAwBEAAAwDAEQAAAAMMQAAEAAAxDAAQAADAMARAAAMAwBEAAAADDEAABAAAMQwAEAAAwDAEQAADAMARAAAAAwxAAAQAADEMABAAAMAwBEAAAwDAEQAAAAMMQAAEAAAxDAAQAADAMARAAAMAwBEAAAADDEAABAAAMQwAEAAAwDAEQAADAMARAAAAAwxAAAQAADEMABAAAMAwBEAAAwDAEQAAAAMMQAAEAAAxDAAQAADAMARAAAMAwBEAAAADDEAABAAAMQwAEAAAwDAEQAADAMARAAAAAwxAAAQAADEMABAAAMAwBEAAAwDBGB8Dvv/9eDz/8sOrVq6eAgADdfPPN2rNnj91lAQAAeJSP3QXY5eeff1bPnj0VExOjjRs3KjQ0VIcPH1adOnXsLg0AAMCjjA2AL774oqKiorRo0SL3sujoaBsrAgAAqBzGngJev369OnfurPvuu08NGjRQhw4d9MYbb5S4TW5urlwuV6EJAACgujE2AH733XeaN2+eWrRooc2bN+uJJ57Q2LFjtWTJkmK3SU5OltPpdE9RUVGVWDEAAEDFcFiWZdldhB18fX3VuXNnffLJJ+5lY8eO1eeff65du3YVuU1ubq5yc3Pd8y6XS1FRUcrOzlZwcLDHawYAANfP5XLJ6XQa/f1t7AhgRESE2rRpU2hZ69atdeLEiWK38fPzU3BwcKEJAACgujE2APbs2VOHDh0qtOzbb79V48aNbaoIAACgchgbAJ966int3r1b06ZN05EjR7Rs2TK9/vrrSkxMtLs0AAAAjzI2AHbp0kVr1qzR8uXLddNNN2nq1KmaNWuW4uPj7S4NAADAo4y9CaQicBEpAADVD9/fBo8AAgAAmIoACAAAYBgCIAAAgGEIgAAAAIYhAAIAABiGAAgAAGAYAiAAAIBhCIAAAACGIQACAAAYhgAIAABgGAIgAACAYQiAAAAAhiEAAgAAGIYACAAAYBgCIAAAgGEIgAAAAIYhAAIAABiGAAgAAGAYAiAAAIBhCIAAAACGIQACAAAYhgAIAABgGAIgAACAYQiAAAAAhiEAAgAAGIYACAAAYBgCIAAAgGEIgAAAAIYhAAIAABiGAAgAAGAYAiAAAIBhCIAAAACGIQACAAAYhgAIAABgGAIgAACAYQiAAAAAhiEAAgAAGIYACAAAYBgCIAAAgGEIgAAAAIYhAAIAABiGAAgAAGAYAuD/mT59uhwOh5KSkuwuBQAAwKMIgJI+//xzLViwQLfccovdpQAAAHic8QHw3Llzio+P1xtvvKE6derYXQ4AAIDHGR8AExMTNXDgQMXGxpbaNjc3Vy6Xq9AEAABQ3fjYXYCdVqxYoX379unzzz8vU/vk5GRNmTLFw1UBAAB4lrEjgBkZGfrjH/+opUuXyt/fv0zbTJw4UdnZ2e4pIyPDw1UCAABUPIdlWZbdRdhh7dq1uueee+Tt7e1elp+fL4fDIS8vL+Xm5hZaVxSXyyWn06ns7GwFBwd7umQAAFAB+P42+BRw3759deDAgULLRowYoVatWunpp58uNfwBAABUV8YGwNq1a+umm24qtOyGG25QvXr1rloOAABQkxh7DSAAAICpjB0BLMr27dvtLgEAAMDjGAEEAAAwDAEQAADAMLacAv7iiy/KvU2bNm3k48MZawAAgOtlS6Jq3769HA6HyvoIQi8vL3377bdq2rSphysDAACo+WwbUvv0008VGhpaajvLsngsCwAAQAWyJQDefvvtat68uUJCQsrU/rbbblNAQIBniwIAADCEsT8FVxH4KRkAAKofvr+5CxgAAMA4tt9Wa1mWVq1apdTUVGVlZamgoKDQ+tWrV9tUGQAAQM1kewBMSkrSggULFBMTo7CwMDkcDrtLAgAAqNFsD4BvvfWWVq9erTvvvNPuUgAAAIxg+zWATqeT5/sBAABUItsD4PPPP68pU6bowoULdpcCAABgBNtPAQ8bNkzLly9XgwYN1KRJE9WqVavQ+n379tlUGQAAQM1kewBMSEjQ3r179fDDD3MTCAAAQCWwPQCmpKRo8+bN6tWrl92lAAAAGMH2awCjoqKMfQo3AACAHWwPgC+99JLGjx+vY8eO2V0KAACAEWw/Bfzwww8rJydHzZo1U2Bg4FU3gZw5c8amygAAAGom2wPgrFmz7C4BAADAKLYHwISEBLtLAAAAMIot1wC6XK5ytT979qyHKgEAADCPLQGwTp06ysrKKnP7//qv/9J3333nwYoAAADMYcspYMuytHDhQgUFBZWp/cWLFz1cEQAAgDlsCYCNGjXSG2+8Ueb24eHhV90dDAAAgGtjSwDkmX8AAAD2sf1B0AAAAKhcBEAAAADDEAABAAAMQwAEAAAwDAEQAADAMLYFwL59+2r16tXFrv/xxx/VtGnTSqwIAADADLYFwNTUVA0bNkyTJ08ucn1+fr6OHz9eyVUBAADUfLaeAp43b55mzZqle+65R+fPn7ezFAAAAGPYGgAHDx6s3bt366uvvtKtt97K7/0CAABUAttvAmndurU+//xzRUVFqUuXLvrwww/tLgkAAKBGsz0ASpLT6VRKSopGjRqlO++8UzNnzrS7JAAAgBrLlt8CliSHw3HV/PTp09W+fXs99thj2rZtm02VAQAA1Gy2jQBallXk8gceeEA7d+7UgQMHKrkiAAAAM9g2Apiamqq6desWua59+/bau3evUlJSKrkqAACAms9hFTcUh1K5XC45nU5lZ2crODjY7nIAAEAZ8P1dRW4CsUtycrK6dOmi2rVrq0GDBhoyZIgOHTpkd1kAAAAeZXQA3LFjhxITE7V7925t2bJFFy9eVP/+/XkoNQAAqNE4BfwfTp8+rQYNGmjHjh267bbbSm3PEDIAANUP39+GjwBeKTs7W5KKvTkFAACgJrDtLuCqpqCgQElJSerZs6duuummItvk5uYqNzfXPe9yuSqrPAAAgArDCOD/SUxM1JdffqkVK1YU2yY5OVlOp9M9RUVFVWKFAAAAFYNrACWNGTNG69at00cffaTo6Ohi2xU1AhgVFWX0NQQAAFQ3XANo+Clgy7L05JNPas2aNdq+fXuJ4U+S/Pz85OfnV0nVAQAAeIbRATAxMVHLli3TunXrVLt2bZ06dUqS5HQ6FRAQYHN1AAAAnmH0KWCHw1Hk8kWLFmn48OGlbs8QMgAA1Q/f34aPABqcfQEAgMG4CxgAAMAwBEAAAADDEAABAAAMQwAEAAAwDAEQAADAMARAAAAAwxAAAQAADEMABAAAMAwBEAAAwDAEQAAAAMMQAAEAAAxDAAQAADAMARAAAMAwBEAAAADDEAABAAAMQwAEAAAwDAEQAADAMARAAAAAwxAAAQAADEMABAAAMAwBEAAAwDAEQAAAAMMQAAEAAAxDAAQAADAMARAAAMAwBEAAAADDEAABAAAMQwAEAAAwDAEQAADAMARAAAAAwxAAAQAADEMABAAAMAwBEAAAwDAEQAAAAMMQAAEAAAxDAAQAADAMARAAAMAwBEAAAADDEAABAAAMQwAEAAAwDAEQAADAMARAAAAAwxgfAOfOnasmTZrI399f3bp102effWZ3SQAAAB5ldAB85513NG7cOE2ePFn79u1Tu3btFBcXp6ysLLtLAwAA8BijA+DLL7+sUaNGacSIEWrTpo3mz5+vwMBAvfnmm3aXBgAA4DHGBsC8vDzt3btXsbGx7mVeXl6KjY3Vrl27yvVa06dLv/1W0RUCAAB4ho/dBdjlxx9/VH5+vsLCwgotDwsL0zfffFPkNrm5ucrNzXXPu1wuSVJysuTvL02a5Ll6AQAAKoqxI4DXIjk5WU6n0z1FRUW51+3caWNhAAAA5WBsAKxfv768vb2VmZlZaHlmZqbCw8OL3GbixInKzs52TxkZGe51vXp5tFwAAIAKY2wA9PX1VadOnbR161b3soKCAm3dulXdu3cvchs/Pz8FBwcXmiRp4kTpmWcqpWwAAIDrZuw1gJI0btw4JSQkqHPnzuratatmzZql8+fPa8SIEeV6nQkTJB+jexIAAFQnRseW+++/X6dPn9akSZN06tQptW/fXps2bbrqxhAAAICaxGFZlmV3EdWVy+WS0+lUdna2+3QwAACo2vj+NvgaQAAAAFMRAAEAAAxDAAQAADAMARAAAMAwBEAAAADDEAABAAAMQwAEAAAwDAEQAADAMARAAAAAwxAAAQAADEMABAAAMAwBEAAAwDAEQAAAAMMQAAEAAAxDAAQAADAMARAAAMAwBEAAAADDEAABAAAMQwAEAAAwDAEQAADAMARAAAAAwxAAAQAADEMABAAAMAwBEAAAwDAEQAAAAMMQAAEAAAxDAAQAADAMARAAAMAwBEAAAADDEAABAAAMQwAEAAAwDAEQAADAMARAAAAAwxAAAQAADEMABAAAMAwBEAAAwDAEQAAAAMMQAAEAAAxDAAQAADAMARAAAMAwBEAAAADDEAABAAAMY2QAPHbsmB599FFFR0crICBAzZo10+TJk5WXl2d3aQAAAB7nY3cBdvjmm29UUFCgBQsWqHnz5vryyy81atQonT9/XjNmzLC7PAAAAI9yWJZl2V1EVfCPf/xD8+bN03fffVfmbVwul5xOp7KzsxUcHOzB6gAAQEXh+9vQEcCiZGdnq27duiW2yc3NVW5urnve5XJ5uiwAAIAKZ+Q1gFc6cuSIXnnlFf3hD38osV1ycrKcTqd7ioqKqqQKAQAAKk6NCoATJkyQw+Eocfrmm28KbfP999/rjjvu0H333adRo0aV+PoTJ05Udna2e8rIyPDk2wEAAPCIGnUN4OnTp/XTTz+V2KZp06by9fWVJJ08eVK9e/fWrbfeqsWLF8vLq3x5mGsIAACofvj+rmHXAIaGhio0NLRMbb///nvFxMSoU6dOWrRoUbnDHwAAQHVVowJgWX3//ffq3bu3GjdurBkzZuj06dPudeHh4TZWBgAA4HlGBsAtW7boyJEjOnLkiBo2bFhoXQ06Iw4AAFAkI897Dh8+XJZlFTkBAADUdEYGQAAAAJMRAAEAAAxDAAQAADAMARAAAMAwBEAAAADDEAABAAAMQwAEAAAwDAEQAADAMARAAAAAwxAAAQAADEMABAAAMAwBEAAAwDAEQAAAAMMQAAEAAAxDAAQAADAMARAAAMAwBEAAAADDEAABAAAMQwAEAAAwDAEQAADAMARAAAAAwxAAAQAADEMABAAAMAwBEAAAwDAEQAAAAMMQAAEAAAxDAAQAADAMARAAAMAwBEAAAADDEAABAAAMQwAEAAAwDAEQAADAMARAAAAAwxAAAQAADEMABAAAMAwBEAAAwDAEQAAAAMMQAAEAAAxDAAQAADAMARAAAMAwBEAAAADDEAABAAAMY3wAzM3NVfv27eVwOJSWlmZ3OQAAAB5nfAAcP368IiMj7S4DAACg0hgdADdu3KgPPvhAM2bMsLsUAACASuNjdwF2yczM1KhRo7R27VoFBgaWaZvc3Fzl5ua657OzsyVJLpfLIzUCAICKd/l727Ismyuxj5EB0LIsDR8+XKNHj1bnzp117NixMm2XnJysKVOmXLU8KiqqgisEAACe9tNPP8npdNpdhi0cVg2KvxMmTNCLL75YYpuDBw/qgw8+0MqVK7Vjxw55e3vr2LFjio6O1v79+9W+fftit71yBPCXX35R48aNdeLECWMPoIricrkUFRWljIwMBQcH211OtUU/Vhz6suLQlxWDfqw42dnZatSokX7++WeFhITYXY4tatQI4J/+9CcNHz68xDZNmzbVtm3btGvXLvn5+RVa17lzZ8XHx2vJkiVFbuvn53fVNpLkdDr5n7GCBAcH05cVgH6sOPRlxaEvKwb9WHG8vMy9FaJGBcDQ0FCFhoaW2m7OnDl64YUX3PMnT55UXFyc3nnnHXXr1s2TJQIAANiuRgXAsmrUqFGh+aCgIElSs2bN1LBhQztKAgAAqDTmjn1WAD8/P02ePLnI08IoH/qyYtCPFYe+rDj0ZcWgHysOfVnDbgIBAABA6RgBBAAAMAwBEAAAwDAEQAAAAMMQAAEAAAxDACzF3Llz1aRJE/n7+6tbt2767LPPSmz/z3/+U61atZK/v79uvvlmbdiwoZIqrfrK05eLFy+Ww+EoNPn7+1ditVXTRx99pEGDBikyMlIOh0Nr164tdZvt27erY8eO8vPzU/PmzbV48WKP11kdlLcvt2/fftUx6XA4dOrUqcopuIpKTk5Wly5dVLt2bTVo0EBDhgzRoUOHSt2Oz8rCrqUf+Zws2rx583TLLbe4H5jdvXt3bdy4scRtTDweCYAleOeddzRu3DhNnjxZ+/btU7t27RQXF6esrKwi23/yySd68MEH9eijj2r//v0aMmSIhgwZoi+//LKSK696ytuX0qWn3f/www/u6fjx45VYcdV0/vx5tWvXTnPnzi1T+/T0dA0cOFAxMTFKS0tTUlKSHnvsMW3evNnDlVZ95e3Lyw4dOlTouGzQoIGHKqweduzYocTERO3evVtbtmzRxYsX1b9/f50/f77YbfisvNq19KPE52RRGjZsqOnTp2vv3r3as2eP+vTpo8GDB+urr74qsr2xx6OFYnXt2tVKTEx0z+fn51uRkZFWcnJyke2HDRtmDRw4sNCybt26WX/4wx88Wmd1UN6+XLRokeV0OiupuupJkrVmzZoS24wfP95q27ZtoWX333+/FRcX58HKqp+y9GVqaqolyfr5558rpabqKisry5Jk7dixo9g2fFaWriz9yOdk2dWpU8dauHBhketMPR4ZASxGXl6e9u7dq9jYWPcyLy8vxcbGateuXUVus2vXrkLtJSkuLq7Y9qa4lr6UpHPnzqlx48aKiooq8V9vKB7HZMVr3769IiIi1K9fP3388cd2l1PlZGdnS5Lq1q1bbBuOy9KVpR8lPidLk5+frxUrVuj8+fPq3r17kW1MPR4JgMX48ccflZ+fr7CwsELLw8LCir3m59SpU+Vqb4pr6cuWLVvqzTff1Lp16/T222+roKBAPXr00P/8z/9URsk1RnHHpMvl0oULF2yqqnqKiIjQ/Pnz9e677+rdd99VVFSUevfurX379tldWpVRUFCgpKQk9ezZUzfddFOx7fisLFlZ+5HPyeIdOHBAQUFB8vPz0+jRo7VmzRq1adOmyLamHo9G/hYwqr7u3bsX+tdajx491Lp1ay1YsEBTp061sTKYqmXLlmrZsqV7vkePHjp69Khmzpypt956y8bKqo7ExER9+eWX2rlzp92lVGtl7Uc+J4vXsmVLpaWlKTs7W6tWrVJCQoJ27NhRbAg0ESOAxahfv768vb2VmZlZaHlmZqbCw8OL3CY8PLxc7U1xLX15pVq1aqlDhw46cuSIJ0qssYo7JoODgxUQEGBTVTVH165dOSb/z5gxY/T+++8rNTVVDRs2LLEtn5XFK08/XonPyf/n6+ur5s2bq1OnTkpOTla7du00e/bsItuaejwSAIvh6+urTp06aevWre5lBQUF2rp1a7HXEXTv3r1Qe0nasmVLse1NcS19eaX8/HwdOHBAERERniqzRuKY9Ky0tDTjj0nLsjRmzBitWbNG27ZtU3R0dKnbcFxe7Vr68Up8ThavoKBAubm5Ra4z9ni0+y6UqmzFihWWn5+ftXjxYuvrr7+2Hn/8cSskJMQ6deqUZVmW9cgjj1gTJkxwt//4448tHx8fa8aMGdbBgwetyZMnW7Vq1bIOHDhg11uoMsrbl1OmTLE2b95sHT161Nq7d6/1wAMPWP7+/tZXX31l11uoEs6ePWvt37/f2r9/vyXJevnll639+/dbx48ftyzLsiZMmGA98sgj7vbfffedFRgYaP3lL3+xDh48aM2dO9fy9va2Nm3aZNdbqDLK25czZ8601q5dax0+fNg6cOCA9cc//tHy8vKyPvzwQ7veQpXwxBNPWE6n09q+fbv1ww8/uKecnBx3Gz4rS3ct/cjnZNEmTJhg7dixw0pPT7e++OILa8KECZbD4bA++OADy7I4Hi8jAJbilVdesRo1amT5+vpaXbt2tXbv3u1ed/vtt1sJCQmF2q9cudK68cYbLV9fX6tt27ZWSkpKJVdcdZWnL5OSktxtw8LCrDvvvNPat2+fDVVXLZcfRXLldLnvEhISrNtvv/2qbdq3b2/5+vpaTZs2tRYtWlTpdVdF5e3LF1980WrWrJnl7+9v1a1b1+rdu7e1bds2e4qvQorqQ0mFjjM+K0t3Lf3I52TRRo4caTVu3Njy9fW1QkNDrb59+7rDn2VxPF7msCzLqrzxRgAAANiNawABAAAMQwAEAAAwDAEQAADAMARAAAAAwxAAAQAADEMABAAAMAwBEAAAwDAEQAAAAMMQAAHUKMOHD9eQIUMqfb+LFy+Ww+GQw+FQUlJSmbYZPny4e5u1a9d6tD4A+E8+dhcAAGXlcDhKXD958mTNnj1bdv3AUXBwsA4dOqQbbrihTO1nz56t6dOnKyIiwsOVAUBhBEAA1cYPP/zg/vs777yjSZMm6dChQ+5lQUFBCgoKsqM0SZcCanh4eJnbO51OOZ1OD1YEAEXjFDCAaiM8PNw9OZ1Od+C6PAUFBV11Crh379568sknlZSUpDp16igsLExvvPGGzp8/rxEjRqh27dpq3ry5Nm7cWGhfX375pQYMGKCgoCCFhYXpkUce0Y8//ljuml977TW1aNFC/v7+CgsL09ChQ6+3GwDguhEAAdR4S5YsUf369fXZZ5/pySef1BNPPKH77rtPPXr00L59+9S/f3898sgjysnJkST98ssv6tOnjzp06KA9e/Zo06ZNyszM1LBhw8q13z179mjs2LH661//qkOHDmnTpk267bbbPPEWAaBcOAUMoMZr166dnn32WUnSxIkTNX36dNWvX1+jRo2SJE2aNEnz5s3TF198oVtvvVWvvvqqOnTooGnTprlf480331RUVJS+/fZb3XjjjWXa74kTJ3TDDTforrvuUu3atdW4cWN16NCh4t8gAJQTI4AAarxbbrnF/Xdvb2/Vq1dPN998s3tZWFiYJCkrK0uS9O9//1upqanuawqDgoLUqlUrSdLRo0fLvN9+/fqpcePGatq0qR555BEtXbrUPcoIAHYiAAKo8WrVqlVo3uFwFFp2+e7igoICSdK5c+c0aNAgpaWlFZoOHz5crlO4tWvX1r59+7R8+XJFRERo0qRJateunX755Zfrf1MAcB04BQwAV+jYsaPeffddNWnSRD4+1/cx6ePjo9jYWMXGxmry5MkKCQnRtm3bdO+991ZQtQBQfowAAsAVEhMTdebMGT344IP6/PPPdfToUW3evFkjRoxQfn5+mV/n/fff15w5c5SWlqbjx4/rv//7v1VQUKCWLVt6sHoAKB0BEACuEBkZqY8//lj5+fnq37+/br75ZiUlJSkkJEReXmX/2AwJCdHq1avVp08ftW7dWvPnz9fy5cvVtm1bD1YPAKVzWHY9Mh8AapDFixcrKSnpmq7vczgcWrNmjS0/YQfATIwAAkAFyc7OVlBQkJ5++ukytR89erStv1wCwFyMAAJABTh79qwyMzMlXTr1W79+/VK3ycrKksvlkiRFRESU+TeEAeB6EQABAAAMwylgAAAAwxAAAQAADEMABAAAMAwBEAAAwDAEQAAAAMMQAAEAAAxDAAQAADAMARAAAMAw/wu0w/fmTahu1AAAAABJRU5ErkJggg==' width=640.0/>\n",
       "            </div>\n",
       "        "
      ],
      "text/plain": [
       "Canvas(toolbar=Toolbar(toolitems=[('Home', 'Reset original view', 'home', 'home'), ('Back', 'Back to previous …"
      ]
     },
     "metadata": {},
     "output_type": "display_data"
    }
   ],
   "source": [
    "### Example Animate\n",
    "import matplotlib.pyplot as plt\n",
    "import numpy as np\n",
    "\n",
    "import matplotlib.animation as animation\n",
    "\n",
    "fig, ax = plt.subplots()\n",
    "t = np.linspace(0, 3, 40)\n",
    "g = -9.81\n",
    "v0 = 12\n",
    "z = g * t**2 / 2 + v0 * t\n",
    "\n",
    "v02 = 5\n",
    "z2 = g * t**2 / 2 + v02 * t\n",
    "\n",
    "scat = ax.scatter(t[0], z[0], c=\"b\", s=5, label=f'v0 = {v0} m/s')\n",
    "line2 = ax.plot(t[0], z2[0], label=f'v0 = {v02} m/s')[0]\n",
    "ax.set(xlim=[0, 3], ylim=[-4, 10], xlabel='Time [s]', ylabel='Z [m]')\n",
    "ax.legend()\n",
    "\n",
    "\n",
    "def update(frame):\n",
    "    # for each frame, update the data stored on each artist.\n",
    "    x = t[:frame]\n",
    "    y = z[:frame]\n",
    "    # update the scatter plot:\n",
    "    data = np.stack([x, y]).T\n",
    "    scat.set_offsets(data)\n",
    "    # update the line plot:\n",
    "    line2.set_xdata(t[:frame])\n",
    "    line2.set_ydata(z2[:frame])\n",
    "    return (scat, line2)\n",
    "\n",
    "\n",
    "ani = animation.FuncAnimation(fig=fig, func=update, frames=40, interval=20)\n",
    "plt.show()\n"
   ]
  },
  {
   "cell_type": "code",
   "execution_count": 4,
   "metadata": {},
   "outputs": [],
   "source": [
    "plt.close()"
   ]
  },
  {
   "cell_type": "markdown",
   "metadata": {
    "jp-MarkdownHeadingCollapsed": true,
    "tags": []
   },
   "source": [
    "### Getting creative "
   ]
  },
  {
   "cell_type": "code",
   "execution_count": 1,
   "metadata": {},
   "outputs": [],
   "source": [
    "!jt -t chesterish"
   ]
  },
  {
   "cell_type": "code",
   "execution_count": 4,
   "metadata": {},
   "outputs": [
    {
     "name": "stdout",
     "output_type": "stream",
     "text": [
      "Reset css and font defaults in:\n",
      "/home/fes33/.jupyter/custom &\n",
      "/home/fes33/.local/share/jupyter/nbextensions\n"
     ]
    }
   ],
   "source": [
    "!jt -r"
   ]
  },
  {
   "cell_type": "code",
   "execution_count": 1,
   "metadata": {},
   "outputs": [
    {
     "name": "stdout",
     "output_type": "stream",
     "text": [
      "Available Themes: \n",
      "   chesterish\n",
      "   grade3\n",
      "   gruvboxd\n",
      "   gruvboxl\n",
      "   monokai\n",
      "   oceans16\n",
      "   onedork\n",
      "   solarizedd\n",
      "   solarizedl\n"
     ]
    }
   ],
   "source": [
    "!jt -l"
   ]
  },
  {
   "cell_type": "code",
   "execution_count": 8,
   "metadata": {},
   "outputs": [],
   "source": [
    "import matplotlib.pyplot as plt"
   ]
  },
  {
   "cell_type": "code",
   "execution_count": 9,
   "metadata": {},
   "outputs": [
    {
     "data": {
      "text/plain": [
       "[]"
      ]
     },
     "execution_count": 9,
     "metadata": {},
     "output_type": "execute_result"
    },
    {
     "data": {
      "image/png": "[encoded data removed]",
      "text/plain": [
       "<Figure size 640x480 with 1 Axes>"
      ]
     },
     "metadata": {},
     "output_type": "display_data"
    }
   ],
   "source": [
    "plt.plot()"
   ]
  },
  {
   "cell_type": "code",
   "execution_count": 107,
   "metadata": {},
   "outputs": [
    {
     "data": {
      "text/plain": [
       "1"
      ]
     },
     "execution_count": 107,
     "metadata": {},
     "output_type": "execute_result"
    }
   ],
   "source": [
    "data = np.random.rand(180,1)\n",
    "nbnd = data.shape[0]\n",
    "lenk = int(data.shape[0] / nbnd)\n",
    "lenk"
   ]
  },
  {
   "cell_type": "code",
   "execution_count": 110,
   "metadata": {},
   "outputs": [
    {
     "data": {
      "text/plain": [
       "5.454545454545454"
      ]
     },
     "execution_count": 110,
     "metadata": {},
     "output_type": "execute_result"
    }
   ],
   "source": [
    "data.shape[0] / 33"
   ]
  },
  {
   "cell_type": "code",
   "execution_count": 112,
   "metadata": {},
   "outputs": [
    {
     "data": {
      "image/png": "[encoded data removed]",
      "text/plain": [
       "<Figure size 640x480 with 1 Axes>"
      ]
     },
     "metadata": {},
     "output_type": "display_data"
    }
   ],
   "source": [
    "import matplotlib.pyplot as plt\n",
    "import numpy as np\n",
    "from matplotlib.ticker import (MultipleLocator, AutoMinorLocator)\n",
    "\n",
    "\n",
    "t = np.arange(0.0, 100.0, 0.1)\n",
    "s = np.sin(0.1 * np.pi * t) * np.exp(-t * 0.01)\n",
    "\n",
    "fig, ax = plt.subplots()\n",
    "ax.plot(t, s)\n",
    "\n",
    "# Make a plot with major ticks that are multiples of 20 and minor ticks that\n",
    "# are multiples of 5.  Label major ticks with '.0f' formatting but don't label\n",
    "# minor ticks.  The string is used directly, the `StrMethodFormatter` is\n",
    "# created automatically.\n",
    "ax.xaxis.set_major_locator(MultipleLocator(20))\n",
    "ax.xaxis.set_major_formatter('{x:.2f}')\n",
    "\n",
    "# For the minor ticks, use no labels; default NullFormatter.\n",
    "ax.xaxis.set_minor_locator(MultipleLocator(5))\n",
    "\n",
    "plt.show()"
   ]
  },
  {
   "cell_type": "code",
   "execution_count": null,
   "metadata": {},
   "outputs": [],
   "source": []
  }
 ],
 "metadata": {
  "kernelspec": {
   "display_name": "Python 3 (ipykernel)",
   "language": "python",
   "name": "python3"
  },
  "language_info": {
   "codemirror_mode": {
    "name": "ipython",
    "version": 3
   },
   "file_extension": ".py",
   "mimetype": "text/x-python",
   "name": "python",
   "nbconvert_exporter": "python",
   "pygments_lexer": "ipython3",
   "version": "3.9.13"
  }
 },
 "nbformat": 4,
 "nbformat_minor": 4
}
