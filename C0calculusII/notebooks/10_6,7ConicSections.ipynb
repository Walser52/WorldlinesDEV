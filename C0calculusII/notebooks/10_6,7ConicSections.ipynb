{
 "cells": [
  {
   "cell_type": "markdown",
   "id": "964f27c7-26b2-46ee-9fc1-39ad2d66490c",
   "metadata": {},
   "source": [
    "# Conic Sections"
   ]
  },
  {
   "cell_type": "markdown",
   "id": "26bc2802-3ae6-4045-928c-39bc1529e69c",
   "metadata": {},
   "source": [
    "## Conic Sections in Polar Coordinates"
   ]
  },
  {
   "cell_type": "code",
   "execution_count": 3,
   "id": "2913ca39-89ce-4c01-8497-3caf61ef26c7",
   "metadata": {},
   "outputs": [],
   "source": [
    "pts = {                #Define High Symmetry Points\n",
    "    'gG1'   : 0,\n",
    "    'X1'    : 30,\n",
    "    'M1'    : 60,\n",
    "    'gG2'   : 90,\n",
    "    'R1'    : 120,\n",
    "    'X2|M2' : 150,\n",
    "    'R2'    : 180\n",
    "}"
   ]
  },
  {
   "cell_type": "code",
   "execution_count": 7,
   "id": "b9e240bb-a957-4458-a352-cee3bcb96a16",
   "metadata": {},
   "outputs": [
    {
     "data": {
      "text/plain": [
       "['gG1', 'X1', 'M1', 'gG2', 'R1', 'X2|M2', 'R2']"
      ]
     },
     "execution_count": 7,
     "metadata": {},
     "output_type": "execute_result"
    }
   ],
   "source": [
    "list(pts.keys())"
   ]
  },
  {
   "cell_type": "code",
   "execution_count": 11,
   "id": "761b26ba-4ba9-41e9-bb8f-02298630ef82",
   "metadata": {},
   "outputs": [
    {
     "data": {
      "text/plain": [
       "['a', 'b', 'c', 'd', 'e', 'f', 'g', 'h', 'i', 'j']"
      ]
     },
     "execution_count": 11,
     "metadata": {},
     "output_type": "execute_result"
    }
   ],
   "source": [
    "k = list('abcdefghij')\n",
    "k"
   ]
  },
  {
   "cell_type": "code",
   "execution_count": 15,
   "id": "78679cd5-dd78-4fe0-b47a-32e33db19321",
   "metadata": {},
   "outputs": [],
   "source": [
    "index = [2,4,8]\n",
    "k = ['a', 'b', 'c', 'd', 'e', 'f', 'g', 'h', 'i', 'j']\n",
    "\n",
    "lst = []\n",
    "for ind in index:\n",
    "    lst.append(k[ind])"
   ]
  },
  {
   "cell_type": "code",
   "execution_count": 14,
   "id": "19223da4-4148-4035-99de-2b53a4ae3da7",
   "metadata": {},
   "outputs": [
    {
     "data": {
      "text/plain": [
       "['c', 'e', 'i']"
      ]
     },
     "execution_count": 14,
     "metadata": {},
     "output_type": "execute_result"
    }
   ],
   "source": [
    "lst = [k[ind] for ind in index]\n",
    "lst"
   ]
  },
  {
   "cell_type": "code",
   "execution_count": 16,
   "id": "2d4c2db5-86b5-4505-9ac6-837ef9e53550",
   "metadata": {},
   "outputs": [
    {
     "data": {
      "text/plain": [
       "['c', 'e', 'i']"
      ]
     },
     "execution_count": 16,
     "metadata": {},
     "output_type": "execute_result"
    }
   ],
   "source": [
    "lst"
   ]
  },
  {
   "cell_type": "code",
   "execution_count": 31,
   "id": "e0747c5f-b69f-4638-9cb2-dae859b8681e",
   "metadata": {},
   "outputs": [
    {
     "data": {
      "text/plain": [
       "{'A': 1, 'B': 2, 'C': 3, 'D': 4, 'E': 5, 'F': 6, 'G': 7}"
      ]
     },
     "execution_count": 31,
     "metadata": {},
     "output_type": "execute_result"
    }
   ],
   "source": [
    "a = list('1234567')\n",
    "b = list('ABCDEFG')\n",
    "c = list(zip(a,b))\n",
    "{el[1]: int(el[0]) for el in c}"
   ]
  },
  {
   "cell_type": "code",
   "execution_count": 34,
   "id": "dbbcf62c-6448-4623-b58a-29bbc54dddf7",
   "metadata": {},
   "outputs": [],
   "source": [
    "high_symmetry_points = {            \n",
    "    'gG1'   : 0,\n",
    "    'X1'    : 30,\n",
    "    'M1'    : 60,\n",
    "    'gG2'   : 90,\n",
    "    'R1'    : 120,\n",
    "    'R2'    : 180\n",
    "}"
   ]
  },
  {
   "cell_type": "code",
   "execution_count": 36,
   "id": "1242ee67-7c14-4a88-bc0f-b3b5804367de",
   "metadata": {},
   "outputs": [
    {
     "ename": "SyntaxError",
     "evalue": "invalid syntax (151406231.py, line 1)",
     "output_type": "error",
     "traceback": [
      "\u001b[0;36m  File \u001b[0;32m\"/tmp/ipykernel_1355338/151406231.py\"\u001b[0;36m, line \u001b[0;32m1\u001b[0m\n\u001b[0;31m    **high_symmetry_points\u001b[0m\n\u001b[0m    ^\u001b[0m\n\u001b[0;31mSyntaxError\u001b[0m\u001b[0;31m:\u001b[0m invalid syntax\n"
     ]
    }
   ],
   "source": [
    "**high_symmetry_points"
   ]
  },
  {
   "cell_type": "code",
   "execution_count": 47,
   "id": "64ba0aaf-ee3b-40dd-8835-5efecb81f78f",
   "metadata": {},
   "outputs": [],
   "source": [
    "def fun(**kwargs):\n",
    "    if 'gg1' in kwargs.keys():\n",
    "        print(kwargs['gg1'])\n",
    "    return\n",
    "\n",
    "\n",
    "fun(gg2 = 'sdfs')"
   ]
  },
  {
   "cell_type": "code",
   "execution_count": null,
   "id": "e3b08763-225c-4a9f-bcaa-5b161f72321a",
   "metadata": {},
   "outputs": [],
   "source": []
  }
 ],
 "metadata": {
  "kernelspec": {
   "display_name": "Python 3 (ipykernel)",
   "language": "python",
   "name": "python3"
  },
  "language_info": {
   "codemirror_mode": {
    "name": "ipython",
    "version": 3
   },
   "file_extension": ".py",
   "mimetype": "text/x-python",
   "name": "python",
   "nbconvert_exporter": "python",
   "pygments_lexer": "ipython3",
   "version": "3.9.13"
  }
 },
 "nbformat": 4,
 "nbformat_minor": 5
}
